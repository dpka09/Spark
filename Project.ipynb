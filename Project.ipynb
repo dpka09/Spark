{
 "cells": [
  {
   "cell_type": "code",
   "execution_count": 1,
   "id": "a1add79a",
   "metadata": {},
   "outputs": [],
   "source": [
    "import findspark\n",
    "findspark.init()"
   ]
  },
  {
   "cell_type": "code",
   "execution_count": 2,
   "id": "16418e7c",
   "metadata": {},
   "outputs": [],
   "source": [
    "from pyspark import SparkContext, SparkConf, SQLContext"
   ]
  },
  {
   "cell_type": "code",
   "execution_count": 3,
   "id": "3d0768b6",
   "metadata": {},
   "outputs": [],
   "source": [
    "sc=SparkContext()"
   ]
  },
  {
   "cell_type": "code",
   "execution_count": 4,
   "id": "c92c5f06",
   "metadata": {},
   "outputs": [],
   "source": [
    "spark=SQLContext(sc)"
   ]
  },
  {
   "cell_type": "code",
   "execution_count": 5,
   "id": "18bb6921",
   "metadata": {},
   "outputs": [],
   "source": [
    "project=spark.read.csv(\"project.csv\", header= True)\n",
    "country=spark.read.csv(\"country.csv\", header= True)\n",
    "proceeds=spark.read.csv(\"proceeds.csv\", header= True)\n",
    "category=spark.read.csv(\"category.csv\", header= True)"
   ]
  },
  {
   "cell_type": "code",
   "execution_count": 6,
   "id": "b7250266",
   "metadata": {
    "scrolled": true
   },
   "outputs": [
    {
     "name": "stdout",
     "output_type": "stream",
     "text": [
      "+----------+--------------------+-------------------+----------+------+----------+-----------+\n",
      "|project_id|           proj_name|           launched|  deadline| state|country_id|category_id|\n",
      "+----------+--------------------+-------------------+----------+------+----------+-----------+\n",
      "|1000002330|The Songs of Adel...|2015-08-11 12:12:28|2015-10-09|failed|        10|        117|\n",
      "|1000003930|Greeting From Ear...|2017-09-02 04:43:57|2017-11-01|failed|        22|        102|\n",
      "+----------+--------------------+-------------------+----------+------+----------+-----------+\n",
      "only showing top 2 rows\n",
      "\n",
      "+------------+--------+----------+\n",
      "|country_code|currency|country_id|\n",
      "+------------+--------+----------+\n",
      "|          AT|     EUR|         1|\n",
      "|          AU|     AUD|         2|\n",
      "+------------+--------+----------+\n",
      "only showing top 2 rows\n",
      "\n",
      "+-------+-------+-------+-----------+--------+----------+-----------+\n",
      "|   goal|pledged|backers|usd_pledged|usd_goal|project_id|proceeds_id|\n",
      "+-------+-------+-------+-----------+--------+----------+-----------+\n",
      "|1000.00|   0.00|      0|       0.00| 1533.95|1000002330|          1|\n",
      "|2500.00|   0.00|      0|       0.00| 2406.39| 100004721|          2|\n",
      "+-------+-------+-------+-----------+--------+----------+-----------+\n",
      "only showing top 2 rows\n",
      "\n",
      "+-----------+-------------+-----------+\n",
      "|   category|main_category|category_id|\n",
      "+-----------+-------------+-----------+\n",
      "|3D Printing|   Technology|          1|\n",
      "|   Academic|   Publishing|          2|\n",
      "+-----------+-------------+-----------+\n",
      "only showing top 2 rows\n",
      "\n"
     ]
    }
   ],
   "source": [
    "project.show(2)\n",
    "country.show(2)\n",
    "proceeds.show(2)\n",
    "category.show(2)"
   ]
  },
  {
   "cell_type": "code",
   "execution_count": 7,
   "id": "837750d9",
   "metadata": {},
   "outputs": [
    {
     "data": {
      "text/plain": [
       "390736"
      ]
     },
     "execution_count": 7,
     "metadata": {},
     "output_type": "execute_result"
    }
   ],
   "source": [
    "project.count()"
   ]
  },
  {
   "cell_type": "code",
   "execution_count": 8,
   "id": "49921189",
   "metadata": {},
   "outputs": [
    {
     "data": {
      "text/plain": [
       "['project_id',\n",
       " 'proj_name',\n",
       " 'launched',\n",
       " 'deadline',\n",
       " 'state',\n",
       " 'country_id',\n",
       " 'category_id']"
      ]
     },
     "execution_count": 8,
     "metadata": {},
     "output_type": "execute_result"
    }
   ],
   "source": [
    "project.columns"
   ]
  },
  {
   "cell_type": "markdown",
   "id": "894412af",
   "metadata": {},
   "source": [
    "->>>>>>>>    Importing sql functions   <<<<<<<<<<"
   ]
  },
  {
   "cell_type": "code",
   "execution_count": 9,
   "id": "0619ceec",
   "metadata": {},
   "outputs": [],
   "source": [
    "from pyspark.sql.functions import col, desc, asc, count, min,max, year, last"
   ]
  },
  {
   "cell_type": "markdown",
   "id": "5ac0e222",
   "metadata": {},
   "source": [
    "# 1. How many successful projects with zero backers?"
   ]
  },
  {
   "cell_type": "code",
   "execution_count": 10,
   "id": "23d52793",
   "metadata": {},
   "outputs": [],
   "source": [
    "self_join= project.join(proceeds, project.project_id==proceeds.project_id, \"inner\").select(project.state, proceeds.backers)"
   ]
  },
  {
   "cell_type": "code",
   "execution_count": 11,
   "id": "1ca4a80d",
   "metadata": {
    "scrolled": true
   },
   "outputs": [
    {
     "name": "stdout",
     "output_type": "stream",
     "text": [
      "+----------+-------+\n",
      "|     state|backers|\n",
      "+----------+-------+\n",
      "|    failed|      0|\n",
      "|    failed|     15|\n",
      "|    failed|      3|\n",
      "|    failed|      1|\n",
      "|  canceled|     14|\n",
      "|successful|    224|\n",
      "|successful|     16|\n",
      "|    failed|     40|\n",
      "|  canceled|     58|\n",
      "|  canceled|     43|\n",
      "+----------+-------+\n",
      "only showing top 10 rows\n",
      "\n"
     ]
    }
   ],
   "source": [
    "self_join.show(10)"
   ]
  },
  {
   "cell_type": "code",
   "execution_count": 12,
   "id": "3fdaf2f5",
   "metadata": {},
   "outputs": [],
   "source": [
    "successful_backer= self_join.filter((self_join.state==\"successful\") & (self_join.backers==\"0\"))"
   ]
  },
  {
   "cell_type": "code",
   "execution_count": 13,
   "id": "2f08ff02",
   "metadata": {},
   "outputs": [
    {
     "data": {
      "text/plain": [
       "0"
      ]
     },
     "execution_count": 13,
     "metadata": {},
     "output_type": "execute_result"
    }
   ],
   "source": [
    "successful_backer.count()"
   ]
  },
  {
   "cell_type": "markdown",
   "id": "26f15890",
   "metadata": {},
   "source": [
    "# 2. Which country has the least amount of projects?"
   ]
  },
  {
   "cell_type": "code",
   "execution_count": 15,
   "id": "996e7d7e",
   "metadata": {},
   "outputs": [],
   "source": [
    "data = project.join(country, project.country_id==country.country_id, \"inner\").select(project.proj_name, country.country_code)"
   ]
  },
  {
   "cell_type": "code",
   "execution_count": 16,
   "id": "24202873",
   "metadata": {
    "scrolled": true
   },
   "outputs": [
    {
     "name": "stdout",
     "output_type": "stream",
     "text": [
      "+--------------------+------------+\n",
      "|           proj_name|country_code|\n",
      "+--------------------+------------+\n",
      "|The Songs of Adel...|          GB|\n",
      "|Greeting From Ear...|          US|\n",
      "|      Where is Hank?|          US|\n",
      "|ToshiCapital Reko...|          US|\n",
      "|Community Film Pr...|          US|\n",
      "|Monarch Espresso Bar|          US|\n",
      "|Support Solar Roa...|          US|\n",
      "|Chaser Strips. Ou...|          US|\n",
      "|SPIN - Premium Re...|          US|\n",
      "|STUDIO IN THE SKY...|          US|\n",
      "| Of Jesus and Madmen|          CA|\n",
      "|    Lisa Lim New CD!|          US|\n",
      "|  The Cottage Market|          US|\n",
      "|G-Spot Place for ...|          US|\n",
      "|Tombstone: Old We...|          GB|\n",
      "|      Survival Rings|          US|\n",
      "|           The Beard|          US|\n",
      "|Notes From London...|          US|\n",
      "|Mike Corey's Dark...|          US|\n",
      "|            Boco Tea|          US|\n",
      "+--------------------+------------+\n",
      "only showing top 20 rows\n",
      "\n"
     ]
    }
   ],
   "source": [
    "data.show()"
   ]
  },
  {
   "cell_type": "code",
   "execution_count": 17,
   "id": "dddb8652",
   "metadata": {},
   "outputs": [],
   "source": [
    "data1=data.groupBy(\"country_code\").count().sort(col(\"count\").asc())"
   ]
  },
  {
   "cell_type": "code",
   "execution_count": 18,
   "id": "2c592c1f",
   "metadata": {
    "scrolled": true
   },
   "outputs": [
    {
     "name": "stdout",
     "output_type": "stream",
     "text": [
      "+------------+-----+\n",
      "|country_code|count|\n",
      "+------------+-----+\n",
      "|          JP|   40|\n",
      "|          LU|   65|\n",
      "|          SG|  570|\n",
      "|          HK|  622|\n",
      "|          AT|  624|\n",
      "|          BE|  643|\n",
      "|          NO|  761|\n",
      "|          CH|  812|\n",
      "|          IE|  886|\n",
      "|          DK| 1201|\n",
      "|          NZ| 1533|\n",
      "|          SE| 1864|\n",
      "|          MX| 1888|\n",
      "|          ES| 2389|\n",
      "|          NL| 3011|\n",
      "|          IT| 3062|\n",
      "|          FR| 3113|\n",
      "|          DE| 4414|\n",
      "|          AU| 8384|\n",
      "|          CA|15633|\n",
      "+------------+-----+\n",
      "only showing top 20 rows\n",
      "\n"
     ]
    }
   ],
   "source": [
    "data1.show()"
   ]
  },
  {
   "cell_type": "code",
   "execution_count": 19,
   "id": "59869568",
   "metadata": {},
   "outputs": [
    {
     "data": {
      "text/plain": [
       "Row(country_code='JP', count=40)"
      ]
     },
     "execution_count": 19,
     "metadata": {},
     "output_type": "execute_result"
    }
   ],
   "source": [
    "data1.first()"
   ]
  },
  {
   "cell_type": "code",
   "execution_count": null,
   "id": "32a1ef9c",
   "metadata": {},
   "outputs": [],
   "source": []
  },
  {
   "cell_type": "markdown",
   "id": "47e649ca",
   "metadata": {},
   "source": [
    "# 3. List the top 10 projects that have the highest goal and list the ones that have reached their goals."
   ]
  },
  {
   "cell_type": "code",
   "execution_count": 20,
   "id": "35b7a413",
   "metadata": {},
   "outputs": [],
   "source": [
    "df= project.join(proceeds, project.project_id==proceeds.project_id).select(project.proj_name, proceeds.goal, proceeds.pledged)"
   ]
  },
  {
   "cell_type": "code",
   "execution_count": 21,
   "id": "deb7cfff",
   "metadata": {
    "scrolled": true
   },
   "outputs": [
    {
     "name": "stdout",
     "output_type": "stream",
     "text": [
      "+--------------------+---------+--------+\n",
      "|           proj_name|     goal| pledged|\n",
      "+--------------------+---------+--------+\n",
      "|The Songs of Adel...|  1000.00|    0.00|\n",
      "|Greeting From Ear...| 30000.00| 2421.00|\n",
      "|      Where is Hank?| 45000.00|  220.00|\n",
      "|ToshiCapital Reko...|  5000.00|    1.00|\n",
      "|Community Film Pr...| 19500.00| 1283.00|\n",
      "|Monarch Espresso Bar| 50000.00|52375.00|\n",
      "|Support Solar Roa...|  1000.00| 1205.00|\n",
      "|Chaser Strips. Ou...| 25000.00|  453.00|\n",
      "|SPIN - Premium Re...|125000.00| 8233.00|\n",
      "|STUDIO IN THE SKY...| 65000.00| 6240.57|\n",
      "| Of Jesus and Madmen|  2500.00|    0.00|\n",
      "|    Lisa Lim New CD!| 12500.00|12700.00|\n",
      "|  The Cottage Market|  5000.00|    0.00|\n",
      "|G-Spot Place for ...|200000.00|    0.00|\n",
      "|Tombstone: Old We...|  5000.00|94175.00|\n",
      "|      Survival Rings|  2500.00|  664.00|\n",
      "|           The Beard|  1500.00|  395.00|\n",
      "|Notes From London...|  3000.00|  789.00|\n",
      "|Mike Corey's Dark...|   250.00|  250.00|\n",
      "|            Boco Tea|  5000.00| 1781.00|\n",
      "+--------------------+---------+--------+\n",
      "only showing top 20 rows\n",
      "\n"
     ]
    }
   ],
   "source": [
    "df.show()"
   ]
  },
  {
   "cell_type": "code",
   "execution_count": 22,
   "id": "a8fbed75",
   "metadata": {},
   "outputs": [],
   "source": [
    "df1=df.orderBy(col(\"goal\").desc())"
   ]
  },
  {
   "cell_type": "code",
   "execution_count": 23,
   "id": "153e1ad5",
   "metadata": {
    "scrolled": false
   },
   "outputs": [
    {
     "name": "stdout",
     "output_type": "stream",
     "text": [
      "+-----------------------------------------------------------+---------+--------+\n",
      "|proj_name                                                  |goal     |pledged |\n",
      "+-----------------------------------------------------------+---------+--------+\n",
      "|'Laborer App' (Canceled)                                   |999999.00|11.00   |\n",
      "|GTA5 Devin Westin's house in real life (Canceled)          |999999.00|0.00    |\n",
      "|Anup R                                                     |999999.00|22.00   |\n",
      "|TRANSFORMATION TECHNOLOGY                                  |99999.99 |6.00    |\n",
      "|999Bottles                                                 |99999.00 |57362.81|\n",
      "|Babyltop Soccer                                            |99999.00 |100.00  |\n",
      "|White House Toy Play Set                                   |99999.00 |175.00  |\n",
      "|World Most Exclusive Polo! Limited Handmade, Ping Pong Bomb|99999.00 |200.00  |\n",
      "|Clean Grip - Protect your grip, Travel in Style.           |99999.00 |86.00   |\n",
      "|IndeChat                                                   |99999.00 |501.00  |\n",
      "+-----------------------------------------------------------+---------+--------+\n",
      "only showing top 10 rows\n",
      "\n"
     ]
    }
   ],
   "source": [
    "df1.show(10, truncate =False)"
   ]
  },
  {
   "cell_type": "code",
   "execution_count": 24,
   "id": "5b312f97",
   "metadata": {
    "scrolled": true
   },
   "outputs": [
    {
     "name": "stdout",
     "output_type": "stream",
     "text": [
      "+---------+-------+-------+-----------+---------+----------+-----------+\n",
      "|     goal|pledged|backers|usd_pledged| usd_goal|project_id|proceeds_id|\n",
      "+---------+-------+-------+-----------+---------+----------+-----------+\n",
      "|  1000.00|   0.00|      0|       0.00|  1533.95|1000002330|          1|\n",
      "|  2500.00|   0.00|      0|       0.00|  2406.39| 100004721|          2|\n",
      "|  5000.00|   0.00|      0|       0.00|  5000.00|1000055792|          3|\n",
      "|200000.00|   0.00|      0|       0.00|200000.00|1000056157|          4|\n",
      "| 12000.00|   0.00|      0|       0.00| 17489.65|1000103948|          5|\n",
      "|  2500.00|   0.00|      0|       0.00|  2500.00|1000182258|          6|\n",
      "| 13500.00|   0.00|      0|       0.00| 13500.00|1000226576|          7|\n",
      "| 50000.00|   0.00|      0|       0.00| 39739.31|1000245024|          8|\n",
      "|  2000.00|   0.00|      0|       0.00|  2579.35|1000256230|          9|\n",
      "| 25000.00|   0.00|      0|       0.00| 25000.00|1000282287|         10|\n",
      "| 68000.00|   0.00|      0|       0.00| 68000.00|1000291263|         11|\n",
      "|  5000.00|   0.00|      0|       0.00|  5000.00|1000399155|         12|\n",
      "|   100.00|   0.00|      0|       0.00|   100.00|1000476123|         13|\n",
      "| 25000.00|   0.00|      0|       0.00| 25000.00|1000509854|         14|\n",
      "|  3400.00|   0.00|      0|       0.00|  3400.00| 100051531|         15|\n",
      "| 20000.00|   0.00|      0|       0.00| 20000.00|1000521061|         16|\n",
      "|   650.00|   0.00|      0|       0.00|   650.00|1000537760|         17|\n",
      "|   500.00|   0.00|      0|       0.00|   803.32|1000581804|         18|\n",
      "|   600.00|   0.00|      0|       0.00|   917.77|1000600526|         19|\n",
      "|  5000.00|   0.00|      0|       0.00|  5000.00|1000659557|         20|\n",
      "+---------+-------+-------+-----------+---------+----------+-----------+\n",
      "only showing top 20 rows\n",
      "\n"
     ]
    }
   ],
   "source": [
    "proceeds.show()"
   ]
  },
  {
   "cell_type": "code",
   "execution_count": 25,
   "id": "f1466c8e",
   "metadata": {},
   "outputs": [],
   "source": [
    "reached_goals=df.select(\"proj_name\",\"goal\",\"pledged\").filter(df.pledged>=df.goal)"
   ]
  },
  {
   "cell_type": "code",
   "execution_count": 26,
   "id": "746f6738",
   "metadata": {
    "scrolled": true
   },
   "outputs": [
    {
     "name": "stdout",
     "output_type": "stream",
     "text": [
      "+------------------------------------------------------------+---------+--------+\n",
      "|proj_name                                                   |goal     |pledged |\n",
      "+------------------------------------------------------------+---------+--------+\n",
      "|Monarch Espresso Bar                                        |50000.00 |52375.00|\n",
      "|Support Solar Roasted Coffee & Green Energy!  SolarCoffee.co|1000.00  |1205.00 |\n",
      "|Chaser Strips. Our Strips make Shots their B*tch!           |25000.00 |453.00  |\n",
      "|SPIN - Premium Retractable In-Ear Headphones with Mic       |125000.00|8233.00 |\n",
      "|Lisa Lim New CD!                                            |12500.00 |12700.00|\n",
      "|Tombstone: Old West tabletop game and miniatures in 32mm.   |5000.00  |94175.00|\n",
      "|Survival Rings                                              |2500.00  |664.00  |\n",
      "|The Beard                                                   |1500.00  |395.00  |\n",
      "|Notes From London: Above & Below                            |3000.00  |789.00  |\n",
      "|Mike Corey's Darkness & Light Album                         |250.00   |250.00  |\n",
      "|CMUK. Shoes: Take on Life Feet First.                       |20000.00 |34268.00|\n",
      "|Alice in Wonderland in G Minor                              |3500.00  |650.00  |\n",
      "|The Book Zoo - A Mini-Comic                                 |175.00   |701.66  |\n",
      "|Matt Cavenaugh & Jenny Powers make their 1st album!         |10000.00 |15827.00|\n",
      "|Permaculture Skills                                         |17757.00 |48905.00|\n",
      "|Rebel Army Origins: The Heroic Story Of Major Gripes        |100.00   |112.38  |\n",
      "|My Moon - Animated Short Film                               |50000.00 |57577.31|\n",
      "|Ledr workbook: one tough journal!                           |1000.00  |47266.00|\n",
      "|Feather Cast Furled Fly Fishing Leaders                     |2000.00  |2000.00 |\n",
      "|Chris Eger Band - New Nashville Record!                     |12000.00 |13260.00|\n",
      "+------------------------------------------------------------+---------+--------+\n",
      "only showing top 20 rows\n",
      "\n"
     ]
    }
   ],
   "source": [
    "reached_goals.show(truncate=False)"
   ]
  },
  {
   "cell_type": "code",
   "execution_count": 27,
   "id": "0f4ac9c4",
   "metadata": {},
   "outputs": [
    {
     "data": {
      "text/plain": [
       "217220"
      ]
     },
     "execution_count": 27,
     "metadata": {},
     "output_type": "execute_result"
    }
   ],
   "source": [
    "reached_goals.count()"
   ]
  },
  {
   "cell_type": "code",
   "execution_count": null,
   "id": "c4958ac0",
   "metadata": {},
   "outputs": [],
   "source": []
  },
  {
   "cell_type": "markdown",
   "id": "c801fdc7",
   "metadata": {},
   "source": [
    "# 4. Which category has the most number of projects?"
   ]
  },
  {
   "cell_type": "code",
   "execution_count": 28,
   "id": "fcb8d639",
   "metadata": {},
   "outputs": [],
   "source": [
    "cat=project.join(category,project.category_id == category.category_id,\"inner\").select(\"proj_name\",\"category\")"
   ]
  },
  {
   "cell_type": "code",
   "execution_count": 29,
   "id": "595cd24f",
   "metadata": {
    "scrolled": true
   },
   "outputs": [
    {
     "name": "stdout",
     "output_type": "stream",
     "text": [
      "+--------------------+--------------+\n",
      "|           proj_name|      category|\n",
      "+--------------------+--------------+\n",
      "|The Songs of Adel...|        Poetry|\n",
      "|Greeting From Ear...|Narrative Film|\n",
      "|      Where is Hank?|Narrative Film|\n",
      "|ToshiCapital Reko...|         Music|\n",
      "|Community Film Pr...|  Film & Video|\n",
      "|Monarch Espresso Bar|   Restaurants|\n",
      "|Support Solar Roa...|          Food|\n",
      "|Chaser Strips. Ou...|        Drinks|\n",
      "|SPIN - Premium Re...|Product Design|\n",
      "|STUDIO IN THE SKY...|   Documentary|\n",
      "| Of Jesus and Madmen|    Nonfiction|\n",
      "|    Lisa Lim New CD!|    Indie Rock|\n",
      "|  The Cottage Market|        Crafts|\n",
      "|G-Spot Place for ...|         Games|\n",
      "|Tombstone: Old We...|Tabletop Games|\n",
      "|      Survival Rings|        Design|\n",
      "|           The Beard|   Comic Books|\n",
      "|Notes From London...|     Art Books|\n",
      "|Mike Corey's Dark...|         Music|\n",
      "|            Boco Tea|          Food|\n",
      "+--------------------+--------------+\n",
      "only showing top 20 rows\n",
      "\n"
     ]
    }
   ],
   "source": [
    "cat.show()"
   ]
  },
  {
   "cell_type": "code",
   "execution_count": 30,
   "id": "6691e223",
   "metadata": {},
   "outputs": [],
   "source": [
    "cat1=cat.groupby(\"category\").count().sort(col(\"count\").desc())"
   ]
  },
  {
   "cell_type": "code",
   "execution_count": 31,
   "id": "9258651e",
   "metadata": {
    "scrolled": true
   },
   "outputs": [
    {
     "name": "stdout",
     "output_type": "stream",
     "text": [
      "+----------------+-----+\n",
      "|        category|count|\n",
      "+----------------+-----+\n",
      "|  Product Design|22274|\n",
      "|     Documentary|16071|\n",
      "|  Tabletop Games|14166|\n",
      "|           Music|13275|\n",
      "|          Shorts|12280|\n",
      "|     Video Games|11820|\n",
      "|            Food|11475|\n",
      "|             Web|10292|\n",
      "|          Comedy| 9240|\n",
      "|    Film & Video| 9186|\n",
      "|         Fiction| 9099|\n",
      "|         Fashion| 8543|\n",
      "|      Nonfiction| 8265|\n",
      "|             Art| 8233|\n",
      "|         Apparel| 7156|\n",
      "|         Theater| 6977|\n",
      "|      Technology| 6921|\n",
      "|            Rock| 6713|\n",
      "|Children's Books| 6699|\n",
      "|            Apps| 6338|\n",
      "+----------------+-----+\n",
      "only showing top 20 rows\n",
      "\n"
     ]
    }
   ],
   "source": [
    "cat1.show()"
   ]
  },
  {
   "cell_type": "code",
   "execution_count": 32,
   "id": "de10aa07",
   "metadata": {},
   "outputs": [
    {
     "data": {
      "text/plain": [
       "Row(category='Product Design', count=22274)"
      ]
     },
     "execution_count": 32,
     "metadata": {},
     "output_type": "execute_result"
    }
   ],
   "source": [
    "cat1.first()"
   ]
  },
  {
   "cell_type": "code",
   "execution_count": null,
   "id": "4cda08e8",
   "metadata": {},
   "outputs": [],
   "source": []
  },
  {
   "cell_type": "markdown",
   "id": "6b69c973",
   "metadata": {},
   "source": [
    "# 5. Which category is the most successful?\n"
   ]
  },
  {
   "cell_type": "code",
   "execution_count": 33,
   "id": "57aa00a8",
   "metadata": {},
   "outputs": [],
   "source": [
    "success=project.join(category,project.category_id == category.category_id,\"inner\").select(\"state\",\"category\").filter(project.state==\"successful\")"
   ]
  },
  {
   "cell_type": "code",
   "execution_count": 34,
   "id": "40326528",
   "metadata": {
    "scrolled": true
   },
   "outputs": [
    {
     "name": "stdout",
     "output_type": "stream",
     "text": [
      "+----------+--------------+\n",
      "|     state|      category|\n",
      "+----------+--------------+\n",
      "|successful|   Restaurants|\n",
      "|successful|          Food|\n",
      "|successful|    Indie Rock|\n",
      "|successful|Tabletop Games|\n",
      "|successful|         Music|\n",
      "|successful|       Fashion|\n",
      "|successful|        Comics|\n",
      "|successful|         Music|\n",
      "|successful|     Webseries|\n",
      "|successful|        Comics|\n",
      "|successful|     Animation|\n",
      "|successful|Product Design|\n",
      "|successful|Product Design|\n",
      "|successful|         Music|\n",
      "|successful|    Indie Rock|\n",
      "|successful|   Documentary|\n",
      "|successful|    Indie Rock|\n",
      "|successful|         Music|\n",
      "|successful|   Photography|\n",
      "|successful|           Pop|\n",
      "+----------+--------------+\n",
      "only showing top 20 rows\n",
      "\n"
     ]
    }
   ],
   "source": [
    "success.show()"
   ]
  },
  {
   "cell_type": "code",
   "execution_count": 35,
   "id": "c4a91341",
   "metadata": {},
   "outputs": [],
   "source": [
    "success_cat=success.groupBy(\"category\").count().sort(col(\"count\").desc())"
   ]
  },
  {
   "cell_type": "code",
   "execution_count": 36,
   "id": "385ebafc",
   "metadata": {
    "scrolled": true
   },
   "outputs": [
    {
     "name": "stdout",
     "output_type": "stream",
     "text": [
      "+----------------+-----+\n",
      "|        category|count|\n",
      "+----------------+-----+\n",
      "|  Product Design| 7953|\n",
      "|  Tabletop Games| 7863|\n",
      "|          Shorts| 6630|\n",
      "|           Music| 6303|\n",
      "|     Documentary| 5905|\n",
      "|         Theater| 4361|\n",
      "|          Comedy| 3624|\n",
      "|      Indie Rock| 3585|\n",
      "|            Rock| 3476|\n",
      "|             Art| 3376|\n",
      "|            Food| 3294|\n",
      "|    Film & Video| 3048|\n",
      "|  Country & Folk| 2790|\n",
      "|          Comics| 2495|\n",
      "|     Video Games| 2386|\n",
      "|Children's Books| 2327|\n",
      "|      Nonfiction| 2216|\n",
      "|         Fiction| 2213|\n",
      "|         Fashion| 2186|\n",
      "|  Narrative Film| 2004|\n",
      "+----------------+-----+\n",
      "only showing top 20 rows\n",
      "\n"
     ]
    }
   ],
   "source": [
    "success_cat.show()"
   ]
  },
  {
   "cell_type": "code",
   "execution_count": 37,
   "id": "6abbe8eb",
   "metadata": {},
   "outputs": [
    {
     "data": {
      "text/plain": [
       "Row(category='Product Design', count=7953)"
      ]
     },
     "execution_count": 37,
     "metadata": {},
     "output_type": "execute_result"
    }
   ],
   "source": [
    "success_cat.first()"
   ]
  },
  {
   "cell_type": "code",
   "execution_count": null,
   "id": "6f15c5fb",
   "metadata": {},
   "outputs": [],
   "source": []
  },
  {
   "cell_type": "markdown",
   "id": "450480b1",
   "metadata": {},
   "source": [
    "# 6. What type of projects are prevalent in each country?"
   ]
  },
  {
   "cell_type": "code",
   "execution_count": 38,
   "id": "0e220952",
   "metadata": {},
   "outputs": [],
   "source": [
    "dataa = project.join(country, project.country_id==country.country_id, \"inner\").join(category, project.category_id==category.category_id).select(project.proj_name, country.country_code, category.category, category.main_category)"
   ]
  },
  {
   "cell_type": "code",
   "execution_count": 39,
   "id": "ca74ee2d",
   "metadata": {
    "scrolled": true
   },
   "outputs": [
    {
     "name": "stdout",
     "output_type": "stream",
     "text": [
      "+--------------------+------------+--------------+-------------+\n",
      "|           proj_name|country_code|      category|main_category|\n",
      "+--------------------+------------+--------------+-------------+\n",
      "|The Songs of Adel...|          GB|        Poetry|   Publishing|\n",
      "|Greeting From Ear...|          US|Narrative Film| Film & Video|\n",
      "|      Where is Hank?|          US|Narrative Film| Film & Video|\n",
      "|ToshiCapital Reko...|          US|         Music|        Music|\n",
      "|Community Film Pr...|          US|  Film & Video| Film & Video|\n",
      "|Monarch Espresso Bar|          US|   Restaurants|         Food|\n",
      "|Support Solar Roa...|          US|          Food|         Food|\n",
      "|Chaser Strips. Ou...|          US|        Drinks|         Food|\n",
      "|SPIN - Premium Re...|          US|Product Design|       Design|\n",
      "|STUDIO IN THE SKY...|          US|   Documentary| Film & Video|\n",
      "| Of Jesus and Madmen|          CA|    Nonfiction|   Publishing|\n",
      "|    Lisa Lim New CD!|          US|    Indie Rock|        Music|\n",
      "|  The Cottage Market|          US|        Crafts|       Crafts|\n",
      "|G-Spot Place for ...|          US|         Games|        Games|\n",
      "|Tombstone: Old We...|          GB|Tabletop Games|        Games|\n",
      "|      Survival Rings|          US|        Design|       Design|\n",
      "|           The Beard|          US|   Comic Books|       Comics|\n",
      "|Notes From London...|          US|     Art Books|   Publishing|\n",
      "|Mike Corey's Dark...|          US|         Music|        Music|\n",
      "|            Boco Tea|          US|          Food|         Food|\n",
      "+--------------------+------------+--------------+-------------+\n",
      "only showing top 20 rows\n",
      "\n"
     ]
    }
   ],
   "source": [
    "dataa.show()"
   ]
  },
  {
   "cell_type": "code",
   "execution_count": 40,
   "id": "83e6fc1a",
   "metadata": {
    "scrolled": true
   },
   "outputs": [
    {
     "name": "stdout",
     "output_type": "stream",
     "text": [
      "+------------+----------------+-----+\n",
      "|country_code|        category|count|\n",
      "+------------+----------------+-----+\n",
      "|          US|  Product Design|16193|\n",
      "|          US|     Documentary|13610|\n",
      "|          US|           Music|11532|\n",
      "|          US|  Tabletop Games|10681|\n",
      "|          US|          Shorts|10273|\n",
      "|          US|            Food| 9648|\n",
      "|          US|    Film & Video| 7884|\n",
      "|          US|     Video Games| 7760|\n",
      "|          US|         Fiction| 7611|\n",
      "|          US|         Fashion| 6912|\n",
      "|          US|      Nonfiction| 6860|\n",
      "|          US|          Comedy| 6764|\n",
      "|          US|             Art| 6478|\n",
      "|          US|             Web| 6280|\n",
      "|          US|         Theater| 6122|\n",
      "|          US|            Rock| 6038|\n",
      "|          US|Children's Books| 5558|\n",
      "|          US|      Indie Rock| 5261|\n",
      "|          US|         Apparel| 5205|\n",
      "|          US|       Webseries| 4990|\n",
      "+------------+----------------+-----+\n",
      "only showing top 20 rows\n",
      "\n"
     ]
    }
   ],
   "source": [
    " dataa1 = dataa.groupby('country_code','category').count().sort(col(\"count\").desc())\n",
    "dataa1.show()"
   ]
  },
  {
   "cell_type": "code",
   "execution_count": 41,
   "id": "d54e4e71",
   "metadata": {
    "scrolled": true
   },
   "outputs": [
    {
     "name": "stdout",
     "output_type": "stream",
     "text": [
      "+------------+--------------+-----+\n",
      "|country_code|      category|count|\n",
      "+------------+--------------+-----+\n",
      "|          NL|Product Design|  264|\n",
      "|          MX|   Video Games|   85|\n",
      "|          AT|Product Design|   58|\n",
      "|          HK|Product Design|  217|\n",
      "|          AU|Product Design|  697|\n",
      "|          CA|Product Design| 1117|\n",
      "|          GB|Product Design| 1839|\n",
      "|          DE|Product Design|  425|\n",
      "|          ES|   Video Games|  200|\n",
      "|          US|Product Design|16193|\n",
      "|          FR|           Web|  260|\n",
      "|          CH|Product Design|  107|\n",
      "|          SG|Product Design|  121|\n",
      "|          IT|Product Design|  279|\n",
      "|          SE|Product Design|  134|\n",
      "|          JP|Product Design|    6|\n",
      "|          NZ|Product Design|  105|\n",
      "|          IE|           Web|   62|\n",
      "|          BE|   Video Games|   48|\n",
      "|          NO|           Web|   56|\n",
      "|          LU|           Web|    6|\n",
      "|          DK|Product Design|  129|\n",
      "+------------+--------------+-----+\n",
      "\n"
     ]
    }
   ],
   "source": [
    "dataa1.drop_duplicates([\"country_code\"]).show(22)"
   ]
  },
  {
   "cell_type": "markdown",
   "id": "ca050c79",
   "metadata": {},
   "source": [
    "# 7. Which year has the most number of failed projects?"
   ]
  },
  {
   "cell_type": "code",
   "execution_count": 42,
   "id": "41df4825",
   "metadata": {},
   "outputs": [],
   "source": [
    "year=project.select((year('deadline').alias('year')),\"state\").filter(project.state==\"failed\")"
   ]
  },
  {
   "cell_type": "code",
   "execution_count": 43,
   "id": "4c877478",
   "metadata": {
    "scrolled": true
   },
   "outputs": [
    {
     "name": "stdout",
     "output_type": "stream",
     "text": [
      "+----+------+\n",
      "|year| state|\n",
      "+----+------+\n",
      "|2015|failed|\n",
      "|2017|failed|\n",
      "|2013|failed|\n",
      "|2012|failed|\n",
      "|2016|failed|\n",
      "|2013|failed|\n",
      "|2014|failed|\n",
      "|2016|failed|\n",
      "|2015|failed|\n",
      "|2014|failed|\n",
      "|2015|failed|\n",
      "|2012|failed|\n",
      "|2017|failed|\n",
      "|2014|failed|\n",
      "|2015|failed|\n",
      "|2016|failed|\n",
      "|2015|failed|\n",
      "|2013|failed|\n",
      "|2013|failed|\n",
      "|2016|failed|\n",
      "+----+------+\n",
      "only showing top 20 rows\n",
      "\n"
     ]
    }
   ],
   "source": [
    "year.show()"
   ]
  },
  {
   "cell_type": "code",
   "execution_count": 44,
   "id": "30e2179c",
   "metadata": {
    "scrolled": true
   },
   "outputs": [
    {
     "name": "stdout",
     "output_type": "stream",
     "text": [
      "+----+-----+\n",
      "|year|count|\n",
      "+----+-----+\n",
      "|2015|47978|\n",
      "|2014|38985|\n",
      "|2016|33074|\n",
      "|2017|28935|\n",
      "|2013|21214|\n",
      "|2012|20646|\n",
      "|2011|11116|\n",
      "|2010| 4245|\n",
      "|2009|  407|\n",
      "|2018|  144|\n",
      "+----+-----+\n",
      "\n"
     ]
    }
   ],
   "source": [
    "year_with_max_fail=year.groupBy(\"year\").count().sort(col(\"count\").desc())\n",
    "year_with_max_fail.show()"
   ]
  },
  {
   "cell_type": "code",
   "execution_count": 45,
   "id": "0175d638",
   "metadata": {},
   "outputs": [
    {
     "data": {
      "text/plain": [
       "Row(year=2015, count=47978)"
      ]
     },
     "execution_count": 45,
     "metadata": {},
     "output_type": "execute_result"
    }
   ],
   "source": [
    "year_with_max_fail.first()"
   ]
  },
  {
   "cell_type": "code",
   "execution_count": null,
   "id": "086c09f3",
   "metadata": {},
   "outputs": [],
   "source": []
  }
 ],
 "metadata": {
  "kernelspec": {
   "display_name": "Python 3",
   "language": "python",
   "name": "python3"
  },
  "language_info": {
   "codemirror_mode": {
    "name": "ipython",
    "version": 3
   },
   "file_extension": ".py",
   "mimetype": "text/x-python",
   "name": "python",
   "nbconvert_exporter": "python",
   "pygments_lexer": "ipython3",
   "version": "3.8.5"
  }
 },
 "nbformat": 4,
 "nbformat_minor": 5
}
